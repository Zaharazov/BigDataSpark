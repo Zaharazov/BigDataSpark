{
 "cells": [
  {
   "cell_type": "markdown",
   "id": "ee241d7f",
   "metadata": {},
   "source": [
    "# Чтение данных"
   ]
  },
  {
   "cell_type": "code",
   "execution_count": null,
   "id": "126d3cf7-3aaa-4ded-b45a-2698c856c9c2",
   "metadata": {},
   "outputs": [
    {
     "name": "stdout",
     "output_type": "stream",
     "text": [
      "+-------------------+------------------+------------+--------------------+----------------+--------------------+-----------------+-----------------+------------------+-----------------+----------------+--------------------+--------------+------------------+------------+----------------+--------------------+----------------+----------+----------------+--------------+---------------+-------------+--------------------+----------+--------------+--------------------+-----------+-------------+------------+--------------------+------------+--------------------+-------------+------------+-------------+----------------+--------------------+--------------------+---------------+--------------------+-------------------+-------------+----------------+--------------------+--------------+----------------+--------------------+----------------+---+\n",
      "|customer_first_name|customer_last_name|customer_age|      customer_email|customer_country|customer_postal_code|customer_pet_type|customer_pet_name|customer_pet_breed|seller_first_name|seller_last_name|        seller_email|seller_country|seller_postal_code|product_name|product_category|       product_price|product_quantity| sale_date|sale_customer_id|sale_seller_id|sale_product_id|sale_quantity|    sale_total_price|store_name|store_location|          store_city|store_state|store_country| store_phone|         store_email|pet_category|      product_weight|product_color|product_size|product_brand|product_material| product_description|      product_rating|product_reviews|product_release_date|product_expiry_date|supplier_name|supplier_contact|      supplier_email|supplier_phone|supplier_address|       supplier_city|supplier_country| id|\n",
      "+-------------------+------------------+------------+--------------------+----------------+--------------------+-----------------+-----------------+------------------+-----------------+----------------+--------------------+--------------+------------------+------------+----------------+--------------------+----------------+----------+----------------+--------------+---------------+-------------+--------------------+----------+--------------+--------------------+-----------+-------------+------------+--------------------+------------+--------------------+-------------+------------+-------------+----------------+--------------------+--------------------+---------------+--------------------+-------------------+-------------+----------------+--------------------+--------------+----------------+--------------------+----------------+---+\n",
      "|           Anallise|            Cowill|          57|emullin2s@smh.com.au|           China|                NULL|              dog|              Zia|          Parakeet|           Ermina|          Mullin|emullin2s@tuttoci...|       Albania|              NULL|     Cat Toy|            Cage|5.160000000000000000|              69| 11/8/2021|              98|            98|             98|            2|291.3500000000000...|     Abata|      Suite 17|              Xiashu|       NULL|        China|883-166-9444|emullin2s@miitbei...|    Reptiles|8.100000000000000000|    Goldenrod|       Large|      Skinder|          Rubber|Sed ante. Vivamus...|3.200000000000000000|             67|           10/2/2010|         12/26/2027|     Flashdog|   Ermina Mullin|    emullin2s@qq.com|  801-801-1731|        Suite 12|            Memaliaj|          Russia| 98|\n",
      "|             Saleem|           Jenking|          56|  nkilalea4v@nba.com|          Poland|              38-322|              cat|             Kira|           Siamese|            Natty|         Kilalea|nkilalea4v@devhub...|        Mexico|             93420|     Cat Toy|            Food|49.96000000000000...|              74|10/31/2021|             166|           166|            166|            2|390.8300000000000...|      Yodo|  PO Box 92447|               Łużna|       NULL|       Kosovo|421-133-0625|nkilalea4v@craigs...|    Reptiles|31.80000000000000...|          Red|      Medium|      Camimbo|           Brass|Etiam vel augue. ...|3.100000000000000000|            850|          11/11/2020|          4/13/2023|   Linkbridge|   Natty Kilalea|nkilalea4v@ifeng.com|  256-464-5612|    PO Box 71006|Fernando Gutierre...|           China|166|\n",
      "|           Gerianne|         Springett|          81|aharrower4w@europ...|       Venezuela|                NULL|              cat|          Carissa|          Parakeet|            Avril|        Harrower|  aharrower4w@wp.com|     Indonesia|              NULL|     Cat Toy|            Food|66.45000000000000...|              61| 4/29/2021|             178|           178|            178|            7|269.7300000000000...|    Rhyzio|      Suite 86|Santa Cruz de Guacas|       NULL|United States|918-412-7096|aharrower4w@latim...|        Dogs|14.30000000000000...|        Khaki|      Medium|      Dabtype|           Steel|Fusce consequat. ...|2.600000000000000000|            232|           12/5/2017|          4/10/2023|      Blogpad|  Avril Harrower|aharrower4w@xrea.com|  898-242-1693|      17th Floor|           Balauring|  Czech Republic|178|\n",
      "|             Bailie|             Hayle|          65|wstavers6l@google...|        Portugal|            4755-192|              dog|           Hedvig|Labrador Retriever|         Waldemar|         Stavers| wstavers6l@1688.com|        Sweden|            455 31|    Dog Food|            Cage|27.79000000000000...|              35|  8/9/2021|             240|           240|            240|            7|291.5200000000000...|   Edgetag|       Room 51|              Devesa|         03|        China|843-452-2957|  wstavers6l@ucoz.ru|    Reptiles|45.10000000000000...|        Green|      Medium|    Skynoodle|           Glass|Nam ultrices, lib...|2.500000000000000000|            510|            9/4/2010|          9/21/2030|        Fadeo|Waldemar Stavers|  wstavers6l@wix.com|  894-969-1509|       5th Floor|            Munkedal|       Indonesia|240|\n",
      "|              Lanie|          Killough|          30|fgrayne9p@samsung...|        Colombia|              052027|              cat|          Ophelia|           Siamese|           Forbes|          Grayne|  fgrayne9p@phoca.cz|      Portugal|          3700-803|    Dog Food|            Food|58.83000000000000...|              14| 9/14/2021|             351|           351|            351|            7|180.1400000000000...| Photofeed|      Suite 79|          Campamento|       NULL|        Japan|933-654-0422|   fgrayne9p@wix.com|        Fish|5.900000000000000000|       Violet|       Large|     Tanoodle|           Vinyl|Fusce posuere fel...|5.000000000000000000|            227|          12/18/2011|         11/12/2025|    Buzzshare|   Forbes Grayne|fgrayne9p@ycombin...|  896-356-3843|         Apt 571|               Paços|           China|351|\n",
      "+-------------------+------------------+------------+--------------------+----------------+--------------------+-----------------+-----------------+------------------+-----------------+----------------+--------------------+--------------+------------------+------------+----------------+--------------------+----------------+----------+----------------+--------------+---------------+-------------+--------------------+----------+--------------+--------------------+-----------+-------------+------------+--------------------+------------+--------------------+-------------+------------+-------------+----------------+--------------------+--------------------+---------------+--------------------+-------------------+-------------+----------------+--------------------+--------------+----------------+--------------------+----------------+---+\n",
      "only showing top 5 rows\n",
      "\n"
     ]
    },
    {
     "data": {
      "text/plain": [
       "10000"
      ]
     },
     "execution_count": 107,
     "metadata": {},
     "output_type": "execute_result"
    }
   ],
   "source": [
    "from pyspark.sql import SparkSession\n",
    "\n",
    "# тестим что оно вообще работает\n",
    "\n",
    "spark = SparkSession.builder \\\n",
    "    .appName(\"Lab2_ETL\") \\\n",
    "    .config(\"spark.jars.packages\", \"org.postgresql:postgresql:42.2.27\") \\\n",
    "    .getOrCreate()\n",
    "\n",
    "jdbc_url = \"jdbc:postgresql://host.docker.internal:5432/my_database_l1\"\n",
    "connection_properties = {\n",
    "    \"user\": \"postgres\",\n",
    "    \"password\": \"pass\",\n",
    "    \"driver\": \"org.postgresql.Driver\"\n",
    "}\n",
    "\n",
    "df = spark.read.jdbc(url=jdbc_url, table=\"mock_data\", properties=connection_properties)\n",
    "\n",
    "df.show(5)\n",
    "\n",
    "df.count()\n"
   ]
  },
  {
   "cell_type": "markdown",
   "id": "f8117ca0",
   "metadata": {},
   "source": [
    "# Преобразование данных в звезду"
   ]
  },
  {
   "cell_type": "code",
   "execution_count": 108,
   "id": "b8c54a6b-8ea3-45c4-8877-55a914e8de59",
   "metadata": {},
   "outputs": [
    {
     "name": "stdout",
     "output_type": "stream",
     "text": [
      "+----------+---------+--------+--------+----------+------+--------+--------------------+--------+--------------------+--------------------+--------------------+-------+------------+-----------+------------+\n",
      "|product_id|     name|category|   brand|     color|  size|material|               price|quantity|              weight|         description|              rating|reviews|release_date|expiry_date|pet_category|\n",
      "+----------+---------+--------+--------+----------+------+--------+--------------------+--------+--------------------+--------------------+--------------------+-------+------------+-----------+------------+\n",
      "|      2737|Bird Cage|    Cage|   Voomm|Aquamarine|Medium|Aluminum|65.27000000000000...|      87|21.00000000000000...|Duis bibendum. Mo...|2.900000000000000000|    127|   5/12/2012| 10/14/2028|        Fish|\n",
      "|      5634| Dog Food|    Food|Zoombeat|    Indigo| Large| Plastic|71.64000000000000...|       4|14.90000000000000...|In hac habitasse ...|3.200000000000000000|    605|    4/7/2018|  9/16/2023|        Dogs|\n",
      "|       246|  Cat Toy|     Toy| Gigabox|      Blue| Large|   Steel|44.24000000000000...|      44|11.90000000000000...|In sagittis dui v...|4.100000000000000000|    399|   2/24/2018|  8/10/2027|    Reptiles|\n",
      "|       413| Dog Food|    Cage| Youspan|    Yellow|Medium|   Brass|15.97000000000000...|       3|16.50000000000000...|Maecenas tristiqu...|2.200000000000000000|    561|    7/8/2016|  1/18/2030|    Reptiles|\n",
      "|       462|  Cat Toy|    Food| Realmix|      Mauv| Small|Aluminum|28.36000000000000...|      66|14.40000000000000...|Proin eu mi. Null...|2.800000000000000000|    353|    6/8/2010|  10/4/2027|        Dogs|\n",
      "+----------+---------+--------+--------+----------+------+--------+--------------------+--------+--------------------+--------------------+--------------------+-------+------------+-----------+------------+\n",
      "only showing top 5 rows\n",
      "\n"
     ]
    },
    {
     "data": {
      "text/plain": [
       "10000"
      ]
     },
     "execution_count": 108,
     "metadata": {},
     "output_type": "execute_result"
    }
   ],
   "source": [
    "from pyspark.sql import functions as F\n",
    "from pyspark.sql.window import Window\n",
    "\n",
    "dim_product = df.select(\n",
    "    df.sale_product_id.alias(\"product_id\"),\n",
    "    df.product_name.alias(\"name\"),\n",
    "    df.product_category.alias(\"category\"),\n",
    "    df.product_brand.alias(\"brand\"),\n",
    "    df.product_color.alias(\"color\"),\n",
    "    df.product_size.alias(\"size\"),\n",
    "    df.product_material.alias(\"material\"),\n",
    "    df.product_price.alias(\"price\"),\n",
    "    df.product_quantity.alias(\"quantity\"),\n",
    "    df.product_weight.alias(\"weight\"),\n",
    "    df.product_description.alias(\"description\"),\n",
    "    df.product_rating.alias(\"rating\"),\n",
    "    df.product_reviews.alias(\"reviews\"),\n",
    "    df.product_release_date.alias(\"release_date\"),\n",
    "    df.product_expiry_date.alias(\"expiry_date\"),\n",
    "    df.pet_category.alias(\"pet_category\")\n",
    ").distinct()\n",
    "dim_product.show(5)\n",
    "\n",
    "dim_product.count()\n"
   ]
  },
  {
   "cell_type": "code",
   "execution_count": 109,
   "id": "7ab566d9-291b-40e4-b398-ac243474adda",
   "metadata": {},
   "outputs": [
    {
     "name": "stdout",
     "output_type": "stream",
     "text": [
      "+-----------+----------+---------+---+--------------------+-----------+-----------+---------+--------+------------------+\n",
      "|customer_id|first_name|last_name|age|               email|    country|postal_code| pet_name|pet_type|         pet_breed|\n",
      "+-----------+----------+---------+---+--------------------+-----------+-----------+---------+--------+------------------+\n",
      "|        542|   Alaster| Allright| 73|   shalltey@hibu.com|Philippines|       6227|   Kellie|     dog|Labrador Retriever|\n",
      "|        716| Cassandre|  Faragan| 67|ptregonajo@comcas...|      Japan|   444-0701|   Victor|     cat|Labrador Retriever|\n",
      "|        942|    Ailsun|   Budgen| 32|    hoq0@squidoo.com|      Japan|   362-0025|     Geri|     dog|          Parakeet|\n",
      "|        993|   Gunilla| Trytsman| 77|mpieraccire@print...|   Thailand|      44150|   Ruthie|     cat|          Parakeet|\n",
      "|       1228|      Mira|   Yukhov| 22|bpendry67@over-bl...|Philippines|       2701|Bernadine|     cat|          Parakeet|\n",
      "+-----------+----------+---------+---+--------------------+-----------+-----------+---------+--------+------------------+\n",
      "only showing top 5 rows\n",
      "\n"
     ]
    },
    {
     "data": {
      "text/plain": [
       "10000"
      ]
     },
     "execution_count": 109,
     "metadata": {},
     "output_type": "execute_result"
    }
   ],
   "source": [
    "dim_customer = df.select(\n",
    "    df.sale_customer_id.alias(\"customer_id\"),\n",
    "    df.customer_first_name.alias(\"first_name\"),\n",
    "    df.customer_last_name.alias(\"last_name\"),\n",
    "    df.customer_age.alias(\"age\"),\n",
    "    df.customer_email.alias(\"email\"),\n",
    "    df.customer_country.alias(\"country\"),\n",
    "    df.customer_postal_code.alias(\"postal_code\"),\n",
    "    df.customer_pet_name.alias(\"pet_name\"),\n",
    "    df.customer_pet_type.alias(\"pet_type\"),\n",
    "    df.customer_pet_breed.alias(\"pet_breed\")\n",
    ").distinct()\n",
    "dim_customer.show(5)\n",
    "\n",
    "dim_customer.count()"
   ]
  },
  {
   "cell_type": "code",
   "execution_count": 110,
   "id": "59897125-d942-4a3d-a58d-87e193f43f2d",
   "metadata": {},
   "outputs": [
    {
     "name": "stdout",
     "output_type": "stream",
     "text": [
      "+---------+----------+---------+--------------------+--------+-------------+\n",
      "|seller_id|first_name|last_name|               email| country|  postal_code|\n",
      "+---------+----------+---------+--------------------+--------+-------------+\n",
      "|      222|     Griff|   Turfin|gturfin63@oaic.go...|Pakistan|        73210|\n",
      "|      468|    Gillan|     Ends|gendscw@bloglovin...|  Poland|       36-007|\n",
      "|      878|    Jeanne|  Shewery|jsheweryo8@unblog.fr|  France|06173 CEDEX 2|\n",
      "|     1310|    Scotty|Bonallack|sbonallack8f@bizj...|  Poland|       14-230|\n",
      "|     1834|  Harmonie|    Morad|    hmoradmu@cnn.com|  France|38009 CEDEX 1|\n",
      "+---------+----------+---------+--------------------+--------+-------------+\n",
      "only showing top 5 rows\n",
      "\n"
     ]
    },
    {
     "data": {
      "text/plain": [
       "10000"
      ]
     },
     "execution_count": 110,
     "metadata": {},
     "output_type": "execute_result"
    }
   ],
   "source": [
    "dim_seller = df.select(\n",
    "    df.sale_seller_id.alias(\"seller_id\"),\n",
    "    df.seller_first_name.alias(\"first_name\"),\n",
    "    df.seller_last_name.alias(\"last_name\"),\n",
    "    df.seller_email.alias(\"email\"),\n",
    "    df.seller_country.alias(\"country\"),\n",
    "    df.seller_postal_code.alias(\"postal_code\")\n",
    ").distinct()\n",
    "dim_seller.show(5)\n",
    "\n",
    "dim_seller.count()\n"
   ]
  },
  {
   "cell_type": "code",
   "execution_count": 111,
   "id": "e23b900f-3637-4bfc-b6e1-a4ceb3aebc07",
   "metadata": {},
   "outputs": [
    {
     "name": "stdout",
     "output_type": "stream",
     "text": [
      "+---------+------------+-------------+-----+----------+------------+--------------------+--------+\n",
      "|     name|    location|         city|state|   country|       phone|               email|store_id|\n",
      "+---------+------------+-------------+-----+----------+------------+--------------------+--------+\n",
      "|     Lazz|PO Box 25788|   Las Palmas|  OAX|    Sweden|696-560-4319|smacavddy6g@frien...|       0|\n",
      "|   Talane|PO Box 68620|     Chartres|   A3|  Honduras|472-917-6932|lgiacobbo5r@scien...|       1|\n",
      "|Bubblebox|    Suite 58|Saint-Quentin|   B6|Kazakhstan|863-901-5165|     vturk6v@com.com|       2|\n",
      "|    Voomm|   Room 1145|     Joliette|   QC|    Canada|604-183-5169|krivalants@cisco.com|       3|\n",
      "|   Rhynyx|PO Box 66262|    Ardazubre|   06| Indonesia|218-133-8890|dbreawoodgp@githu...|       4|\n",
      "+---------+------------+-------------+-----+----------+------------+--------------------+--------+\n",
      "only showing top 5 rows\n",
      "\n"
     ]
    },
    {
     "data": {
      "text/plain": [
       "10000"
      ]
     },
     "execution_count": 111,
     "metadata": {},
     "output_type": "execute_result"
    }
   ],
   "source": [
    "dim_store = df.select(\n",
    "    df.store_name.alias(\"name\"),\n",
    "    df.store_location.alias(\"location\"),\n",
    "    df.store_city.alias(\"city\"),\n",
    "    df.store_state.alias(\"state\"),\n",
    "    df.store_country.alias(\"country\"),\n",
    "    df.store_phone.alias(\"phone\"),\n",
    "    df.store_email.alias(\"email\")\n",
    ").distinct().withColumn(\"store_id\", F.monotonically_increasing_id())\n",
    "dim_store.show(5)\n",
    "\n",
    "dim_store.count()\n"
   ]
  },
  {
   "cell_type": "code",
   "execution_count": 112,
   "id": "c44afd89-6519-432f-93b3-a98f68a33182",
   "metadata": {},
   "outputs": [
    {
     "name": "stdout",
     "output_type": "stream",
     "text": [
      "+---------+---------------+--------------------+------------+------------+-----------+---------+-----------+\n",
      "|     name|        contact|               email|       phone|     address|       city|  country|supplier_id|\n",
      "+---------+---------------+--------------------+------------+------------+-----------+---------+-----------+\n",
      "|     Ooba|  Kylynn Bugler|kbuglerhc@busines...|239-994-3631|    Suite 87|      Titay|   Russia|          0|\n",
      "|     Kazu|  Flemming Doni|fdonijd@ycombinat...|473-797-6078|    Suite 87|      Sofia|   Russia|          1|\n",
      "|Topicware| Correna Gaynes|  cgayneskj@cnet.com|874-995-7853|PO Box 44041| Kazanskoye|  Ukraine|          2|\n",
      "| Flashset|Shurlocke Court|scourtrn@sitemete...|710-850-7829|PO Box 86407|    Gungguh|    Palau|          3|\n",
      "|   Vinder|        Deb Igo|    digonp@apple.com|536-443-3634|PO Box 76502|Mikhaylovsk|Argentina|          4|\n",
      "+---------+---------------+--------------------+------------+------------+-----------+---------+-----------+\n",
      "only showing top 5 rows\n",
      "\n"
     ]
    },
    {
     "data": {
      "text/plain": [
       "10000"
      ]
     },
     "execution_count": 112,
     "metadata": {},
     "output_type": "execute_result"
    }
   ],
   "source": [
    "dim_supplier = df.select(\n",
    "    df.supplier_name.alias(\"name\"),\n",
    "    df.supplier_contact.alias(\"contact\"),\n",
    "    df.supplier_email.alias(\"email\"),\n",
    "    df.supplier_phone.alias(\"phone\"),\n",
    "    df.supplier_address.alias(\"address\"),\n",
    "    df.supplier_city.alias(\"city\"),\n",
    "    df.supplier_country.alias(\"country\")\n",
    ").distinct().withColumn(\"supplier_id\", F.monotonically_increasing_id())\n",
    "dim_supplier.show(5)\n",
    "\n",
    "dim_supplier.count()\n"
   ]
  },
  {
   "cell_type": "code",
   "execution_count": 113,
   "id": "15cca220",
   "metadata": {},
   "outputs": [],
   "source": [
    "from pyspark.sql.functions import to_date\n",
    "\n",
    "dim_product = dim_product.withColumn(\"release_date\", to_date(\"release_date\", \"M/d/yyyy\"))\n",
    "dim_product = dim_product.withColumn(\"expiry_date\", to_date(\"expiry_date\", \"M/d/yyyy\"))\n"
   ]
  },
  {
   "cell_type": "code",
   "execution_count": 114,
   "id": "7b33adce-1616-42cf-b438-42f1ec88f9ab",
   "metadata": {},
   "outputs": [
    {
     "name": "stdout",
     "output_type": "stream",
     "text": [
      "+-------+-----------+---------+----------+-----------+--------+----------+--------+--------------------+\n",
      "|sale_id|customer_id|seller_id|product_id|supplier_id|store_id| sale_date|quantity|         total_price|\n",
      "+-------+-----------+---------+----------+-----------+--------+----------+--------+--------------------+\n",
      "|    178|        178|      178|       178|       5496|    NULL|2021-04-29|       7|269.7300000000000...|\n",
      "|    166|        166|      166|       166|       4495|    NULL|2021-10-31|       2|390.8300000000000...|\n",
      "|    394|        394|      394|       394|       3296|    NULL|2021-08-31|       3|371.5100000000000...|\n",
      "|    240|        240|      240|       240|       9161|    1089|2021-08-09|       7|291.5200000000000...|\n",
      "|    351|        351|      351|       351|       3196|    NULL|2021-09-14|       7|180.1400000000000...|\n",
      "+-------+-----------+---------+----------+-----------+--------+----------+--------+--------------------+\n",
      "only showing top 5 rows\n",
      "\n"
     ]
    },
    {
     "data": {
      "text/plain": [
       "10000"
      ]
     },
     "execution_count": 114,
     "metadata": {},
     "output_type": "execute_result"
    }
   ],
   "source": [
    "fact_sales = df.alias(\"fact\") \\\n",
    "    .join(\n",
    "        dim_customer.alias(\"customer\"),\n",
    "        F.col(\"fact.sale_customer_id\") == F.col(\"customer.customer_id\"),\n",
    "        \"left\"\n",
    "    ) \\\n",
    "    .join(\n",
    "        dim_seller.alias(\"seller\"),\n",
    "        F.col(\"fact.sale_seller_id\") == F.col(\"seller.seller_id\"),\n",
    "        \"left\"\n",
    "    ) \\\n",
    "    .join(\n",
    "        dim_product.alias(\"product\"),\n",
    "        F.col(\"fact.sale_product_id\") == F.col(\"product.product_id\"),\n",
    "        \"left\"\n",
    "    ) \\\n",
    "    .join(\n",
    "        dim_store.alias(\"store\"),\n",
    "        (F.col(\"fact.store_name\") == F.col(\"store.name\")) &\n",
    "        (F.col(\"fact.store_location\") == F.col(\"store.location\")) &\n",
    "        (F.col(\"fact.store_city\") == F.col(\"store.city\")) &\n",
    "        (F.col(\"fact.store_state\") == F.col(\"store.state\")) &\n",
    "        (F.col(\"fact.store_country\") == F.col(\"store.country\")) &\n",
    "        (F.col(\"fact.store_phone\") == F.col(\"store.phone\")) &\n",
    "        (F.col(\"fact.store_email\") == F.col(\"store.email\")),\n",
    "        \"left\"\n",
    "    ) \\\n",
    "    .join(\n",
    "        dim_supplier.alias(\"supplier\"),\n",
    "        (F.col(\"fact.supplier_name\") == F.col(\"supplier.name\")) &\n",
    "        (F.col(\"fact.supplier_contact\") == F.col(\"supplier.contact\")) &\n",
    "        (F.col(\"fact.supplier_email\") == F.col(\"supplier.email\")) &\n",
    "        (F.col(\"fact.supplier_phone\") == F.col(\"supplier.phone\")) &\n",
    "        (F.col(\"fact.supplier_address\") == F.col(\"supplier.address\")) &\n",
    "        (F.col(\"fact.supplier_city\") == F.col(\"supplier.city\")) &\n",
    "        (F.col(\"fact.supplier_country\") == F.col(\"supplier.country\")),\n",
    "        \"left\"\n",
    "    ) \\\n",
    "    .select(\n",
    "        F.col(\"fact.id\").alias(\"sale_id\"),\n",
    "        F.col(\"customer.customer_id\"),\n",
    "        F.col(\"seller.seller_id\"),\n",
    "        F.col(\"product.product_id\"),\n",
    "        F.col(\"supplier.supplier_id\"),\n",
    "        F.col(\"store.store_id\"),\n",
    "        F.to_date(F.col(\"fact.sale_date\"), \"M/d/yyyy\").alias(\"sale_date\"),\n",
    "        F.col(\"fact.sale_quantity\").alias(\"quantity\"),\n",
    "        F.col(\"fact.sale_total_price\").alias(\"total_price\")\n",
    "    )\n",
    "\n",
    "fact_sales.show(5)\n",
    "\n",
    "fact_sales.count()"
   ]
  },
  {
   "cell_type": "markdown",
   "id": "06f4b070-9741-4882-9e4c-42306c1aa9b5",
   "metadata": {},
   "source": [
    "# Загрузка данных в бд"
   ]
  },
  {
   "cell_type": "markdown",
   "id": "9af0c7d8-f9cf-41ce-9945-3a2a4afd12d4",
   "metadata": {},
   "source": [
    "CREATE TABLE dim_product (\n",
    "    product_id INTEGER PRIMARY KEY,\n",
    "    name VARCHAR(100),\n",
    "    category VARCHAR(50),\n",
    "    brand VARCHAR(50),\n",
    "    color VARCHAR(50),\n",
    "    size VARCHAR(50),\n",
    "    material VARCHAR(50),\n",
    "    price NUMERIC,\n",
    "    quantity INTEGER,\n",
    "    weight NUMERIC,\n",
    "    description TEXT,\n",
    "    rating NUMERIC,\n",
    "    reviews TEXT,\n",
    "    release_date DATE,\n",
    "    expiry_date DATE,\n",
    "    pet_category VARCHAR(50)\n",
    ");\n",
    "\n",
    "CREATE TABLE dim_customer (\n",
    "    customer_id INTEGER PRIMARY KEY,\n",
    "    first_name VARCHAR(50),\n",
    "    last_name VARCHAR(50),\n",
    "    age INTEGER,\n",
    "    email VARCHAR(100),\n",
    "    country VARCHAR(50),\n",
    "    postal_code VARCHAR(20),\n",
    "    pet_name VARCHAR(50),\n",
    "    pet_type VARCHAR(50),\n",
    "    pet_breed VARCHAR(50)\n",
    ");\n",
    "\n",
    "CREATE TABLE dim_seller (\n",
    "    seller_id INTEGER PRIMARY KEY,\n",
    "    first_name VARCHAR(50),\n",
    "    last_name VARCHAR(50),\n",
    "    email VARCHAR(100),\n",
    "    country VARCHAR(50),\n",
    "    postal_code VARCHAR(20)\n",
    ");\n",
    "\n",
    "CREATE TABLE dim_store (\n",
    "    store_id SERIAL PRIMARY KEY,\n",
    "    name VARCHAR(100),\n",
    "    location VARCHAR(100),\n",
    "    city VARCHAR(50),\n",
    "    state VARCHAR(50),\n",
    "    country VARCHAR(50),\n",
    "    phone VARCHAR(50),\n",
    "    email VARCHAR(100)\n",
    ");\n",
    "\n",
    "CREATE TABLE dim_supplier (\n",
    "    supplier_id SERIAL PRIMARY KEY,\n",
    "    name VARCHAR(100),\n",
    "    contact VARCHAR(100),\n",
    "    email VARCHAR(100),\n",
    "    phone VARCHAR(50),\n",
    "    address VARCHAR(100),\n",
    "    city VARCHAR(50),\n",
    "    country VARCHAR(50)\n",
    ");\n",
    "\n",
    "CREATE TABLE fact_sales (\n",
    "    sale_id INTEGER PRIMARY KEY,\n",
    "    product_id INTEGER REFERENCES dim_product(product_id),\n",
    "    customer_id INTEGER REFERENCES dim_customer(customer_id),\n",
    "    seller_id INTEGER REFERENCES dim_seller(seller_id),\n",
    "    store_id INTEGER REFERENCES dim_store(store_id),\n",
    "    supplier_id INTEGER REFERENCES dim_supplier(supplier_id),\n",
    "    sale_date DATE,\n",
    "    quantity INTEGER,\n",
    "    total_price NUMERIC\n",
    ");\n"
   ]
  },
  {
   "cell_type": "code",
   "execution_count": 115,
   "id": "cd57b38d-27b4-49b0-b05a-6d08677b4ee8",
   "metadata": {},
   "outputs": [],
   "source": [
    "tables = [\n",
    "    (\"dim_customer\", dim_customer),\n",
    "    (\"dim_seller\", dim_seller),\n",
    "    (\"dim_product\", dim_product),\n",
    "    (\"dim_store\", dim_store),\n",
    "    (\"dim_supplier\", dim_supplier),\n",
    "    (\"fact_sales\", fact_sales)\n",
    "]\n",
    "\n",
    "for name, df in tables:\n",
    "    df.write.jdbc(\n",
    "        url=jdbc_url,\n",
    "        table=name,\n",
    "        mode=\"append\",\n",
    "        properties=connection_properties\n",
    "    )"
   ]
  },
  {
   "cell_type": "markdown",
   "id": "5bab5b2b",
   "metadata": {},
   "source": [
    "# Работа с ClickHouse"
   ]
  },
  {
   "cell_type": "code",
   "execution_count": null,
   "id": "2f1c9e7e",
   "metadata": {},
   "outputs": [],
   "source": [
    "clickhouse_url = \"jdbc:clickhouse://clickhouse:8123/clickhouse\"\n",
    "\n",
    "clickhouse_props = {\n",
    "    \"driver\": \"com.clickhouse.jdbc.ClickHouseDriver\",\n",
    "    \"user\": \"clickhouse\",\n",
    "    \"password\": \"pass\"\n",
    "}"
   ]
  },
  {
   "cell_type": "markdown",
   "id": "a57c0381-eecc-4e53-9e60-e850ec3f4153",
   "metadata": {},
   "source": [
    "### Проверяем корректность подключения"
   ]
  },
  {
   "cell_type": "code",
   "execution_count": 117,
   "id": "878cff01-c467-4059-b23c-538df42b06d0",
   "metadata": {},
   "outputs": [
    {
     "name": "stdout",
     "output_type": "stream",
     "text": [
      "+----------+\n",
      "|test_value|\n",
      "+----------+\n",
      "|         1|\n",
      "+----------+\n",
      "\n"
     ]
    }
   ],
   "source": [
    "df = spark.read \\\n",
    "    .format(\"jdbc\") \\\n",
    "    .option(\"url\", clickhouse_url) \\\n",
    "    .option(\"driver\", clickhouse_props[\"driver\"]) \\\n",
    "    .option(\"dbtable\", \"(SELECT 1 AS test_value) AS test\") \\\n",
    "    .option(\"user\", clickhouse_props[\"user\"]) \\\n",
    "    .option(\"password\", clickhouse_props[\"password\"]) \\\n",
    "    .load()\n",
    "\n",
    "df.show()\n"
   ]
  },
  {
   "cell_type": "markdown",
   "id": "4929f9db-da5a-4a9d-bd29-b47095028738",
   "metadata": {},
   "source": [
    "# Витрина продаж по продуктам. Цель: Анализ выручки, количества продаж и популярности продуктов."
   ]
  },
  {
   "cell_type": "markdown",
   "id": "cbeafcbd-5829-47ac-84e4-1118e69f5dfe",
   "metadata": {},
   "source": [
    "## Топ-10 самых продаваемых продуктов."
   ]
  },
  {
   "cell_type": "code",
   "execution_count": 118,
   "id": "c55d2a7d-68c4-4509-897e-697f9edcae9b",
   "metadata": {},
   "outputs": [
    {
     "name": "stdout",
     "output_type": "stream",
     "text": [
      "+----------+--------------+--------------------+---------+--------+------+------+----+\n",
      "|product_id|total_quantity|       total_revenue|     name|category| color|  size|rank|\n",
      "+----------+--------------+--------------------+---------+--------+------+------+----+\n",
      "|      7620|            10|499.7300000000000...|  Cat Toy|     Toy|Fuscia|Medium|   1|\n",
      "|      2557|            10|499.5900000000000...| Dog Food|     Toy|Yellow| Large|   2|\n",
      "|       487|            10|498.9600000000000...|Bird Cage|     Toy|Indigo| Small|   3|\n",
      "|      6600|            10|498.3500000000000...| Dog Food|    Food|  Puce| Small|   4|\n",
      "|      8962|            10|497.2500000000000...| Dog Food|    Food|  Teal| Large|   5|\n",
      "+----------+--------------+--------------------+---------+--------+------+------+----+\n",
      "only showing top 5 rows\n",
      "\n"
     ]
    }
   ],
   "source": [
    "top_products = fact_sales.groupBy(\"product_id\") \\\n",
    "    .agg(\n",
    "        F.sum(\"quantity\").alias(\"total_quantity\"),\n",
    "        F.sum(\"total_price\").alias(\"total_revenue\")\n",
    "    ) \\\n",
    "    .join(dim_product.select(\"product_id\", \"name\", \"category\", \"color\", \"size\"), \"product_id\") \\\n",
    "    .orderBy(F.desc(\"total_quantity\"), F.desc(\"total_revenue\")) \\\n",
    "    .limit(10)\n",
    "\n",
    "window_spec = Window.orderBy(F.desc(\"total_quantity\"), F.desc(\"total_revenue\"))\n",
    "top_products = top_products.withColumn(\"rank\", F.row_number().over(window_spec))\n",
    "\n",
    "top_products.show(5)\n",
    "\n",
    "top_products.write \\\n",
    "    .option(\"createTableOptions\", \"ENGINE = MergeTree() ORDER BY (rank)\") \\\n",
    "    .mode(\"overwrite\") \\\n",
    "    .jdbc(url=clickhouse_url, table=\"top_products\", properties=clickhouse_props)\n"
   ]
  },
  {
   "cell_type": "markdown",
   "id": "4cac9945-5b54-4f63-baf2-e41ff3056413",
   "metadata": {},
   "source": [
    "## Общая выручка по категориям продуктов."
   ]
  },
  {
   "cell_type": "code",
   "execution_count": 119,
   "id": "2093e837-1b7f-4387-940d-70695af1816d",
   "metadata": {},
   "outputs": [
    {
     "name": "stdout",
     "output_type": "stream",
     "text": [
      "+--------+--------------------+\n",
      "|category|       total_revenue|\n",
      "+--------+--------------------+\n",
      "|     Toy|868101.6300000000...|\n",
      "|    Cage|831117.9400000000...|\n",
      "|    Food|830632.5500000000...|\n",
      "+--------+--------------------+\n",
      "\n"
     ]
    }
   ],
   "source": [
    "category_sales = fact_sales.join(dim_product, \"product_id\") \\\n",
    "    .select(\"product_id\", \"category\", fact_sales[\"total_price\"]) \\\n",
    "    .groupBy(\"category\") \\\n",
    "    .agg(F.sum(\"total_price\").alias(\"total_revenue\")) \\\n",
    "    .orderBy(F.desc(\"total_revenue\"))\n",
    "\n",
    "category_sales.show(5)\n",
    "\n",
    "category_sales.write \\\n",
    "    .option(\"createTableOptions\", \"ENGINE = MergeTree() ORDER BY (category)\") \\\n",
    "    .mode(\"overwrite\") \\\n",
    "    .jdbc(url=clickhouse_url, table=\"total_revenue_by_category\", properties=clickhouse_props)\n"
   ]
  },
  {
   "cell_type": "markdown",
   "id": "7d651fe4-8918-48f1-899e-983546dc74a0",
   "metadata": {},
   "source": [
    "## Средний рейтинг и количество отзывов для каждого продукта."
   ]
  },
  {
   "cell_type": "code",
   "execution_count": 120,
   "id": "b2572849-f3c2-4652-bc70-01ef5ec1ddc9",
   "metadata": {},
   "outputs": [
    {
     "name": "stdout",
     "output_type": "stream",
     "text": [
      "+---------+----------+-------------+\n",
      "|     name|avg_rating|total_reviews|\n",
      "+---------+----------+-------------+\n",
      "| Dog Food|      3.02|      1653413|\n",
      "|  Cat Toy|      3.01|      1676222|\n",
      "|Bird Cage|      3.00|      1682260|\n",
      "+---------+----------+-------------+\n",
      "\n"
     ]
    }
   ],
   "source": [
    "product_rating_stats = dim_product.select(\"name\", \"rating\", \"reviews\") \\\n",
    "    .groupBy(\"name\") \\\n",
    "    .agg(\n",
    "        F.round(F.avg(\"rating\"), 2).alias(\"avg_rating\"),\n",
    "        F.sum(\"reviews\").alias(\"total_reviews\")\n",
    "    ) \\\n",
    "    .orderBy(F.desc(\"avg_rating\"))\n",
    "\n",
    "product_rating_stats.show(5)\n",
    "\n",
    "product_rating_stats.write \\\n",
    "    .option(\"createTableOptions\", \"ENGINE = MergeTree() ORDER BY (avg_rating)\") \\\n",
    "    .mode(\"overwrite\") \\\n",
    "    .jdbc(url=clickhouse_url, table=\"product_rating_stats\", properties=clickhouse_props)\n"
   ]
  },
  {
   "cell_type": "markdown",
   "id": "b6cfdac1-0e2f-4853-a445-68040203b53f",
   "metadata": {},
   "source": [
    "# Витрина продаж по клиентам. Цель: Анализ покупательского поведения и сегментация клиентов."
   ]
  },
  {
   "cell_type": "markdown",
   "id": "bdcb7293-8444-4260-9b0e-9776573aefc1",
   "metadata": {},
   "source": [
    "## Топ-10 клиентов с наибольшей общей суммой покупок."
   ]
  },
  {
   "cell_type": "code",
   "execution_count": 121,
   "id": "822236f4-7690-4812-9d93-b1e77cdccad9",
   "metadata": {},
   "outputs": [
    {
     "name": "stdout",
     "output_type": "stream",
     "text": [
      "+-----------+-----------------+--------------------+\n",
      "|customer_id|        full_name|         total_spent|\n",
      "+-----------+-----------------+--------------------+\n",
      "|       3198|    Gus Hartshorn|499.8500000000000...|\n",
      "|       5426|     Hayes McKain|499.8000000000000...|\n",
      "|       4928|      Dawna Impey|499.7600000000000...|\n",
      "|       5364|        Ava Lomas|499.7600000000000...|\n",
      "|       7620|Lavinia Horsburgh|499.7300000000000...|\n",
      "+-----------+-----------------+--------------------+\n",
      "only showing top 5 rows\n",
      "\n"
     ]
    }
   ],
   "source": [
    "from pyspark.sql.functions import concat_ws\n",
    "\n",
    "top_customers = fact_sales.groupBy(\"customer_id\") \\\n",
    "    .agg(F.sum(\"total_price\").alias(\"total_spent\")) \\\n",
    "    .join(\n",
    "        dim_customer.select(\n",
    "            \"customer_id\",\n",
    "            concat_ws(\" \", \"first_name\", \"last_name\").alias(\"full_name\")\n",
    "        ),\n",
    "        on=\"customer_id\"\n",
    "    ) \\\n",
    "    .select(\"customer_id\", \"full_name\", \"total_spent\") \\\n",
    "    .orderBy(F.desc(\"total_spent\")) \\\n",
    "    .limit(10)\n",
    "\n",
    "top_customers.show(5)\n",
    "\n",
    "top_customers.write \\\n",
    "    .option(\"createTableOptions\", \"ENGINE = MergeTree() ORDER BY (customer_id)\") \\\n",
    "    .mode(\"overwrite\") \\\n",
    "    .jdbc(url=clickhouse_url, table=\"top_customers\", properties=clickhouse_props)\n"
   ]
  },
  {
   "cell_type": "markdown",
   "id": "355113b9-f3a0-404d-b4b5-e82c3ef6eb7d",
   "metadata": {},
   "source": [
    "## Распределение клиентов по странам."
   ]
  },
  {
   "cell_type": "code",
   "execution_count": 122,
   "id": "ee1f3263-e58f-446b-86a2-119a0ac4506e",
   "metadata": {},
   "outputs": [
    {
     "name": "stdout",
     "output_type": "stream",
     "text": [
      "+-------------------+-----+\n",
      "|            country|count|\n",
      "+-------------------+-----+\n",
      "|               Chad|    5|\n",
      "|             Russia|  628|\n",
      "|           Paraguay|   18|\n",
      "|U.S. Virgin Islands|    1|\n",
      "|              Yemen|   39|\n",
      "+-------------------+-----+\n",
      "only showing top 5 rows\n",
      "\n"
     ]
    }
   ],
   "source": [
    "customers_by_country = dim_customer.groupBy(\"country\").count()\n",
    "\n",
    "customers_by_country.show(5)\n",
    "\n",
    "customers_by_country.write \\\n",
    "    .option(\"createTableOptions\", \"ENGINE = MergeTree() ORDER BY (country)\") \\\n",
    "    .mode(\"overwrite\") \\\n",
    "    .jdbc(url=clickhouse_url, table=\"customers_by_country\", properties=clickhouse_props)"
   ]
  },
  {
   "cell_type": "markdown",
   "id": "d6102bb6-5acd-49ac-9d90-3428fdd7a8a3",
   "metadata": {},
   "source": [
    "## Средний чек для каждого клиента."
   ]
  },
  {
   "cell_type": "code",
   "execution_count": 123,
   "id": "1aa5aabd-f6fa-43f4-91fc-fa68b3f252b0",
   "metadata": {},
   "outputs": [
    {
     "name": "stdout",
     "output_type": "stream",
     "text": [
      "+-----------+----------------+--------------------+\n",
      "|customer_id|       full_name|         avg_receipt|\n",
      "+-----------+----------------+--------------------+\n",
      "|        148| Leann Ferraresi|127.3100000000000...|\n",
      "|        463|     Kenton Rigg|445.9700000000000...|\n",
      "|        471|  Garrick Corbyn|363.0200000000000...|\n",
      "|        496|    Gregory Figg|460.4000000000000...|\n",
      "|        833|Aymer Matthesius|47.51000000000000...|\n",
      "+-----------+----------------+--------------------+\n",
      "only showing top 5 rows\n",
      "\n"
     ]
    }
   ],
   "source": [
    "avg_receipt = fact_sales.groupBy(\"customer_id\") \\\n",
    "    .agg(F.avg(\"total_price\").alias(\"avg_receipt\")) \\\n",
    "    .join(\n",
    "        dim_customer.select(\"customer_id\", \"first_name\", \"last_name\"),\n",
    "        on=\"customer_id\",\n",
    "        how=\"left\"\n",
    "    ) \\\n",
    "    .withColumn(\"full_name\", F.concat_ws(\" \", F.col(\"first_name\"), F.col(\"last_name\"))) \\\n",
    "    .select(\"customer_id\", \"full_name\", \"avg_receipt\")\n",
    "\n",
    "avg_receipt.show(5)\n",
    "\n",
    "avg_receipt.write \\\n",
    "    .option(\"createTableOptions\", \"ENGINE = MergeTree() ORDER BY (customer_id)\") \\\n",
    "    .mode(\"overwrite\") \\\n",
    "    .jdbc(url=clickhouse_url, table=\"avg_receipt_by_customer\", properties=clickhouse_props)"
   ]
  },
  {
   "cell_type": "markdown",
   "id": "09e5507a-8055-4a85-a51c-fdc37fef564f",
   "metadata": {},
   "source": [
    "# Витрина продаж по времени. Цель: Анализ сезонности и трендов продаж."
   ]
  },
  {
   "cell_type": "markdown",
   "id": "20d69f05-6164-433b-a07d-4c5eaff43823",
   "metadata": {},
   "source": [
    "## Месячные и годовые тренды продаж. "
   ]
  },
  {
   "cell_type": "code",
   "execution_count": 124,
   "id": "29120a44-e867-4809-bc77-07cd89b03d4a",
   "metadata": {},
   "outputs": [
    {
     "name": "stdout",
     "output_type": "stream",
     "text": [
      "+----+-----+--------------------+-------------------+--------------------+------------------+\n",
      "|year|month|     monthly_revenue|monthly_sales_count|      yearly_revenue|yearly_sales_count|\n",
      "+----+-----+--------------------+-------------------+--------------------+------------------+\n",
      "|2021|    1|224158.5400000000...|                874|2529852.120000000...|             10000|\n",
      "|2021|    2|192348.3100000000...|                739|2529852.120000000...|             10000|\n",
      "|2021|    3|207282.2000000000...|                843|2529852.120000000...|             10000|\n",
      "|2021|    4|206592.8200000000...|                837|2529852.120000000...|             10000|\n",
      "|2021|    5|211764.8600000000...|                828|2529852.120000000...|             10000|\n",
      "+----+-----+--------------------+-------------------+--------------------+------------------+\n",
      "only showing top 5 rows\n",
      "\n"
     ]
    }
   ],
   "source": [
    "time_sales = fact_sales.withColumn(\"year\", F.year(\"sale_date\")) \\\n",
    "                       .withColumn(\"month\", F.month(\"sale_date\"))\n",
    "\n",
    "monthly_revenue = time_sales.groupBy(\"year\", \"month\") \\\n",
    "    .agg(\n",
    "        F.sum(\"total_price\").alias(\"monthly_revenue\"),\n",
    "        F.count(\"*\").alias(\"monthly_sales_count\")\n",
    "    )\n",
    "\n",
    "yearly_stats = time_sales.groupBy(\"year\") \\\n",
    "    .agg(\n",
    "        F.sum(\"total_price\").alias(\"yearly_revenue\"),\n",
    "        F.count(\"*\").alias(\"yearly_sales_count\")\n",
    "    )\n",
    "\n",
    "combined = monthly_revenue.join(yearly_stats, on=\"year\", how=\"left\") \\\n",
    "    .orderBy(\"year\", \"month\")\n",
    "\n",
    "combined.show(5)\n",
    "\n",
    "combined.write \\\n",
    "    .option(\"createTableOptions\", \"ENGINE = MergeTree() ORDER BY (year, month)\") \\\n",
    "    .mode(\"overwrite\") \\\n",
    "    .jdbc(url=clickhouse_url, table=\"sales_time_trends\", properties=clickhouse_props)"
   ]
  },
  {
   "cell_type": "markdown",
   "id": "53c0b726-e404-492e-a363-5336f214cb44",
   "metadata": {},
   "source": [
    "## Сравнение выручки за разные периоды. "
   ]
  },
  {
   "cell_type": "code",
   "execution_count": 125,
   "id": "bfef137e-79f7-4be9-a215-bb69a8c55ad4",
   "metadata": {},
   "outputs": [
    {
     "name": "stdout",
     "output_type": "stream",
     "text": [
      "+----+-----+--------------------+--------------------+\n",
      "|year|month|     monthly_revenue|      yearly_revenue|\n",
      "+----+-----+--------------------+--------------------+\n",
      "|2021|    1|224158.5400000000...|2529852.120000000...|\n",
      "|2021|    2|192348.3100000000...|2529852.120000000...|\n",
      "|2021|    3|207282.2000000000...|2529852.120000000...|\n",
      "|2021|    4|206592.8200000000...|2529852.120000000...|\n",
      "|2021|    5|211764.8600000000...|2529852.120000000...|\n",
      "+----+-----+--------------------+--------------------+\n",
      "only showing top 5 rows\n",
      "\n"
     ]
    }
   ],
   "source": [
    "time_sales_clean = fact_sales.withColumn(\"year\", F.year(\"sale_date\")) \\\n",
    "                              .withColumn(\"month\", F.month(\"sale_date\"))\n",
    "\n",
    "monthly_revenue_clean = time_sales_clean.groupBy(\"year\", \"month\") \\\n",
    "    .agg(F.sum(\"total_price\").alias(\"monthly_revenue\"))\n",
    "\n",
    "yearly_revenue_clean = time_sales_clean.groupBy(\"year\") \\\n",
    "    .agg(F.sum(\"total_price\").alias(\"yearly_revenue\"))\n",
    "\n",
    "monthly_yearly_sales_clean = monthly_revenue_clean.join(\n",
    "    yearly_revenue_clean, on=\"year\", how=\"left\"\n",
    ").orderBy(\"year\", \"month\")\n",
    "\n",
    "monthly_yearly_sales_clean.show(5)\n",
    "\n",
    "monthly_yearly_sales_clean.write \\\n",
    "    .option(\"createTableOptions\", \"ENGINE = MergeTree() ORDER BY (year, month)\") \\\n",
    "    .mode(\"overwrite\") \\\n",
    "    .jdbc(url=clickhouse_url, table=\"monthly_yearly_sales\", properties=clickhouse_props)\n",
    "\n",
    "monthly_avg_items_per_order.write \\\n",
    "    .option(\"createTableOptions\", \"ENGINE = MergeTree() ORDER BY (year, month)\") \\\n",
    "    .mode(\"overwrite\") \\\n",
    "    .jdbc(url=clickhouse_url, table=\"monthly_avg_items_per_order\", properties=clickhouse_props)\n",
    "\n"
   ]
  },
  {
   "cell_type": "markdown",
   "id": "53df872d-0c03-469c-afcb-7ede0720ee4a",
   "metadata": {},
   "source": [
    "## Средний размер заказа по месяцам."
   ]
  },
  {
   "cell_type": "code",
   "execution_count": 126,
   "id": "9a79e17f-5811-4713-9adc-5965e4965f67",
   "metadata": {},
   "outputs": [
    {
     "name": "stdout",
     "output_type": "stream",
     "text": [
      "+----+-----+-------------------+\n",
      "|year|month|avg_items_per_order|\n",
      "+----+-----+-------------------+\n",
      "|2021|    1|  5.556064073226545|\n",
      "|2021|    2|   5.50744248985115|\n",
      "|2021|    3| 5.4104389086595495|\n",
      "|2021|    4| 5.4528076463560335|\n",
      "|2021|    5|  5.375603864734299|\n",
      "+----+-----+-------------------+\n",
      "only showing top 5 rows\n",
      "\n"
     ]
    }
   ],
   "source": [
    "time_sales_items = fact_sales.withColumn(\"year\", F.year(\"sale_date\")) \\\n",
    "                             .withColumn(\"month\", F.month(\"sale_date\"))\n",
    "\n",
    "monthly_items_stats = time_sales_items.groupBy(\"year\", \"month\").agg(\n",
    "    F.sum(\"quantity\").alias(\"total_items_sold\"),\n",
    "    F.count(\"*\").alias(\"order_count\")\n",
    ")\n",
    "\n",
    "monthly_avg_items_per_order = monthly_items_stats.withColumn(\n",
    "    \"avg_items_per_order\",\n",
    "    F.col(\"total_items_sold\") / F.col(\"order_count\")\n",
    ").select(\"year\", \"month\", \"avg_items_per_order\") \\\n",
    " .orderBy(\"year\", \"month\")\n",
    "\n",
    "monthly_avg_items_per_order.show(5)\n",
    "\n",
    "monthly_avg_items_per_order.write \\\n",
    "    .option(\"createTableOptions\", \"ENGINE = MergeTree() ORDER BY (year, month)\") \\\n",
    "    .mode(\"overwrite\") \\\n",
    "    .jdbc(url=clickhouse_url, table=\"monthly_avg_items_per_order\", properties=clickhouse_props)\n"
   ]
  },
  {
   "cell_type": "markdown",
   "id": "77cdd8a2-6391-40bd-9e54-86b182f74dba",
   "metadata": {},
   "source": [
    "# Витрина продаж по магазинам. Цель: Анализ эффективности магазинов."
   ]
  },
  {
   "cell_type": "markdown",
   "id": "b56804aa-8fd7-46ef-a406-35b4bb4644af",
   "metadata": {},
   "source": [
    "## Топ-5 магазинов с наибольшей выручкой."
   ]
  },
  {
   "cell_type": "code",
   "execution_count": 127,
   "id": "3232b7ac-af18-46e2-b099-d83bc9388f73",
   "metadata": {},
   "outputs": [
    {
     "name": "stdout",
     "output_type": "stream",
     "text": [
      "+--------+-----------+--------------------+\n",
      "|store_id|       name|       total_revenue|\n",
      "+--------+-----------+--------------------+\n",
      "|     808|Thoughtblab|499.8000000000000...|\n",
      "|    1596|      Kazio|499.6200000000000...|\n",
      "|    1197|    Gabcube|499.2100000000000...|\n",
      "|    1517|   Innotype|499.2000000000000...|\n",
      "|     648|    Gabtype|498.8600000000000...|\n",
      "+--------+-----------+--------------------+\n",
      "\n"
     ]
    }
   ],
   "source": [
    "top_5_stores = fact_sales.join(dim_store, on=\"store_id\", how=\"inner\") \\\n",
    "    .groupBy(\"store_id\", \"name\") \\\n",
    "    .agg(F.sum(\"total_price\").alias(\"total_revenue\")) \\\n",
    "    .orderBy(F.desc(\"total_revenue\")) \\\n",
    "    .limit(5)\n",
    "\n",
    "top_5_stores.show(5)\n",
    "\n",
    "top_5_stores.write \\\n",
    "    .option(\"createTableOptions\", \"ENGINE = MergeTree() ORDER BY (total_revenue)\") \\\n",
    "    .mode(\"overwrite\") \\\n",
    "    .jdbc(url=clickhouse_url, table=\"top_5_stores\", properties=clickhouse_props)"
   ]
  },
  {
   "cell_type": "markdown",
   "id": "e8d613ca-2d43-46a3-a176-29a605525289",
   "metadata": {},
   "source": [
    "## Распределение продаж по городам и странам."
   ]
  },
  {
   "cell_type": "code",
   "execution_count": 128,
   "id": "ee132f75-bd7b-4896-8d4b-3895a0c927b6",
   "metadata": {},
   "outputs": [
    {
     "name": "stdout",
     "output_type": "stream",
     "text": [
      "+---------+----------+--------------------+------------------------+\n",
      "|  country|      city|       total_revenue|total_revenue_by_country|\n",
      "+---------+----------+--------------------+------------------------+\n",
      "|    China| Stockholm|2056.830000000000...|    79995.69000000000...|\n",
      "|    China| København|986.4600000000000...|    79995.69000000000...|\n",
      "|    China|  Västerås|956.2900000000000...|    79995.69000000000...|\n",
      "|    China|     Luleå|823.2300000000000...|    79995.69000000000...|\n",
      "|Indonesia|Washington|799.8300000000000...|    36486.61000000000...|\n",
      "+---------+----------+--------------------+------------------------+\n",
      "only showing top 5 rows\n",
      "\n"
     ]
    }
   ],
   "source": [
    "store_sales_by_location = fact_sales.join(dim_store, on=\"store_id\", how=\"inner\") \\\n",
    "    .groupBy(\"country\", \"city\") \\\n",
    "    .agg(F.sum(\"total_price\").alias(\"total_revenue\"))\n",
    "\n",
    "window_spec = Window.partitionBy(\"country\")\n",
    "\n",
    "store_sales_by_location = store_sales_by_location \\\n",
    "    .withColumn(\"total_revenue_by_country\", F.sum(\"total_revenue\").over(window_spec)) \\\n",
    "    .orderBy(F.desc(\"total_revenue\"))\n",
    "\n",
    "store_sales_by_location.show(5)\n",
    "\n",
    "store_sales_by_location.write \\\n",
    "    .option(\"createTableOptions\", \"ENGINE = MergeTree() ORDER BY (country, city)\") \\\n",
    "    .mode(\"overwrite\") \\\n",
    "    .jdbc(url=clickhouse_url, table=\"store_sales_by_location\", properties=clickhouse_props)"
   ]
  },
  {
   "cell_type": "markdown",
   "id": "95a73ce6-37cc-44d5-a040-0baf33351c72",
   "metadata": {},
   "source": [
    "## Средний чек для каждого магазина."
   ]
  },
  {
   "cell_type": "code",
   "execution_count": 129,
   "id": "b1b09a77-7f90-4660-95d2-b6ce47aba9e7",
   "metadata": {},
   "outputs": [
    {
     "name": "stdout",
     "output_type": "stream",
     "text": [
      "+--------+-----------+--------------------+\n",
      "|store_id|       name|       average_check|\n",
      "+--------+-----------+--------------------+\n",
      "|     964|     Agimba|192.3500000000000...|\n",
      "|      29|    Cogibox|110.3600000000000...|\n",
      "|      26|Topiclounge|447.9700000000000...|\n",
      "|     474|       Omba|29.57000000000000...|\n",
      "|    1010|       Oozz|278.7800000000000...|\n",
      "+--------+-----------+--------------------+\n",
      "only showing top 5 rows\n",
      "\n"
     ]
    }
   ],
   "source": [
    "average_check_by_store = fact_sales.groupBy(\"store_id\") \\\n",
    "    .agg(\n",
    "        (F.sum(\"total_price\") / F.count(\"*\")).alias(\"average_check\")\n",
    "    ) \\\n",
    "    .join(dim_store.select(\"store_id\", \"name\"), on=\"store_id\", how=\"inner\") \\\n",
    "    .select(\"store_id\", \"name\", \"average_check\")\n",
    "\n",
    "average_check_by_store.show(5)\n",
    "\n",
    "average_check_by_store.write \\\n",
    "    .option(\"createTableOptions\", \"ENGINE = MergeTree() ORDER BY (average_check)\") \\\n",
    "    .mode(\"overwrite\") \\\n",
    "    .jdbc(url=clickhouse_url, table=\"average_check_by_store\", properties=clickhouse_props)\n"
   ]
  },
  {
   "cell_type": "markdown",
   "id": "3b541403-8011-4af2-aeb3-e1bf9358d56a",
   "metadata": {},
   "source": [
    "# Витрина продаж по поставщикам. Цель: Анализ эффективности поставщиков."
   ]
  },
  {
   "cell_type": "markdown",
   "id": "585aa09e-8341-4f7f-b5d6-e8d4f2ef97a0",
   "metadata": {},
   "source": [
    "## Топ-5 поставщиков с наибольшей выручкой."
   ]
  },
  {
   "cell_type": "code",
   "execution_count": 130,
   "id": "af74c4ad-1ef5-49d0-8802-dbc09c82b434",
   "metadata": {},
   "outputs": [
    {
     "name": "stdout",
     "output_type": "stream",
     "text": [
      "+-----------+-------------+--------------------+\n",
      "|supplier_id|supplier_name|       total_revenue|\n",
      "+-----------+-------------+--------------------+\n",
      "|       2490|   Brainverse|499.8500000000000...|\n",
      "|       6258|        Jamia|499.8000000000000...|\n",
      "|       7286|        Eabox|499.7600000000000...|\n",
      "|       4222|      Demimbu|499.7600000000000...|\n",
      "|       3919|   Browsezoom|499.7300000000000...|\n",
      "+-----------+-------------+--------------------+\n",
      "\n"
     ]
    }
   ],
   "source": [
    "dim_supplier_renamed = dim_supplier.withColumnRenamed(\"name\", \"supplier_name\")\n",
    "\n",
    "top_5_suppliers = fact_sales.join(dim_product, on=\"product_id\", how=\"inner\") \\\n",
    "    .join(dim_supplier_renamed, on=\"supplier_id\", how=\"inner\") \\\n",
    "    .groupBy(\"supplier_id\", \"supplier_name\") \\\n",
    "    .agg(F.sum(\"total_price\").alias(\"total_revenue\")) \\\n",
    "    .orderBy(F.desc(\"total_revenue\")) \\\n",
    "    .limit(5)\n",
    "\n",
    "top_5_suppliers.show(5)\n",
    "\n",
    "top_5_suppliers.write \\\n",
    "    .option(\"createTableOptions\", \"ENGINE = MergeTree() ORDER BY (total_revenue)\") \\\n",
    "    .mode(\"overwrite\") \\\n",
    "    .jdbc(url=clickhouse_url, table=\"top_5_suppliers\", properties=clickhouse_props)"
   ]
  },
  {
   "cell_type": "markdown",
   "id": "cfe91fc6-f9b1-4d1b-8ce8-5e45de9d9ef5",
   "metadata": {},
   "source": [
    "## Средняя цена товаров от каждого поставщика. "
   ]
  },
  {
   "cell_type": "code",
   "execution_count": 131,
   "id": "5830d103-9c86-48bb-a786-79f1dd558080",
   "metadata": {},
   "outputs": [
    {
     "name": "stdout",
     "output_type": "stream",
     "text": [
      "+-----------+----------+--------------------+\n",
      "|supplier_id|      name|           avg_price|\n",
      "+-----------+----------+--------------------+\n",
      "|       2851|   Cogidoo|80.87000000000000...|\n",
      "|       6229|Jabbertype|75.87000000000000...|\n",
      "|       6863|      Kazu|18.67000000000000...|\n",
      "|       5941|    Camido|83.25000000000000...|\n",
      "|       4624| Babbleset|8.450000000000000...|\n",
      "+-----------+----------+--------------------+\n",
      "only showing top 5 rows\n",
      "\n"
     ]
    }
   ],
   "source": [
    "avg_price_per_supplier = fact_sales.alias(\"f\") \\\n",
    "    .join(dim_product.alias(\"p\"), F.col(\"f.product_id\") == F.col(\"p.product_id\")) \\\n",
    "    .join(dim_supplier.alias(\"s\"), F.col(\"f.supplier_id\") == F.col(\"s.supplier_id\")) \\\n",
    "    .groupBy(F.col(\"s.supplier_id\"), F.col(\"s.name\")) \\\n",
    "    .agg(F.avg(F.col(\"p.price\")).alias(\"avg_price\"))\n",
    "\n",
    "avg_price_per_supplier.show(5)\n",
    "\n",
    "avg_price_per_supplier.write \\\n",
    "    .option(\"createTableOptions\", \"ENGINE = MergeTree() ORDER BY (avg_price)\") \\\n",
    "    .mode(\"overwrite\") \\\n",
    "    .jdbc(url=clickhouse_url, table=\"avg_price_per_supplier\", properties=clickhouse_props)"
   ]
  },
  {
   "cell_type": "markdown",
   "id": "829c148e-69db-48ec-8de6-993815ab0f6e",
   "metadata": {},
   "source": [
    "## Распределение продаж по странам поставщиков."
   ]
  },
  {
   "cell_type": "code",
   "execution_count": 132,
   "id": "e4655fbc-3e47-4209-92fe-cf4490c37883",
   "metadata": {},
   "outputs": [
    {
     "name": "stdout",
     "output_type": "stream",
     "text": [
      "+--------+--------------------+\n",
      "| country|       total_revenue|\n",
      "+--------+--------------------+\n",
      "|    Chad|2051.030000000000...|\n",
      "|  Russia|149206.7500000000...|\n",
      "|Paraguay|2957.860000000000...|\n",
      "|   Yemen|11414.63000000000...|\n",
      "| Senegal|3162.410000000000...|\n",
      "+--------+--------------------+\n",
      "only showing top 5 rows\n",
      "\n"
     ]
    }
   ],
   "source": [
    "sales_by_supplier_country = fact_sales \\\n",
    "    .join(dim_supplier, \"supplier_id\") \\\n",
    "    .groupBy(\"country\") \\\n",
    "    .agg(F.sum(\"total_price\").alias(\"total_revenue\"))\n",
    "\n",
    "sales_by_supplier_country.show(5)\n",
    "\n",
    "sales_by_supplier_country.write \\\n",
    "    .option(\"createTableOptions\", \"ENGINE = MergeTree() ORDER BY (country)\") \\\n",
    "    .mode(\"overwrite\") \\\n",
    "    .jdbc(url=clickhouse_url, table=\"sales_by_supplier_country\", properties=clickhouse_props)"
   ]
  },
  {
   "cell_type": "markdown",
   "id": "4ca04d26-c6cc-48b3-8de3-846ca62f095e",
   "metadata": {},
   "source": [
    "# Витрина качества продукции. Цель: Анализ отзывов и рейтингов товаров."
   ]
  },
  {
   "cell_type": "markdown",
   "id": "ae52351b-89f2-4580-8f3b-c339b1544ba3",
   "metadata": {},
   "source": [
    "## Продукты с наивысшим и наименьшим рейтингом."
   ]
  },
  {
   "cell_type": "code",
   "execution_count": 133,
   "id": "60e1473c-041a-4eae-8661-eb5ab4c6a470",
   "metadata": {},
   "outputs": [
    {
     "name": "stdout",
     "output_type": "stream",
     "text": [
      "+----------+---------+--------------------+\n",
      "|product_id|     name|              rating|\n",
      "+----------+---------+--------------------+\n",
      "|      2332|Bird Cage|5.000000000000000000|\n",
      "|      4203|  Cat Toy|5.000000000000000000|\n",
      "|      9186| Dog Food|5.000000000000000000|\n",
      "|      1783|  Cat Toy|5.000000000000000000|\n",
      "|      8070|  Cat Toy|5.000000000000000000|\n",
      "+----------+---------+--------------------+\n",
      "only showing top 5 rows\n",
      "\n"
     ]
    }
   ],
   "source": [
    "products_ordered_by_rating = dim_product \\\n",
    "    .select(\"product_id\", \"name\", \"rating\") \\\n",
    "    .orderBy(F.desc(\"rating\"))\n",
    "\n",
    "products_ordered_by_rating.show(5)\n",
    "\n",
    "products_ordered_by_rating.write \\\n",
    "    .option(\"createTableOptions\", \"ENGINE = MergeTree() ORDER BY (rating)\") \\\n",
    "    .mode(\"overwrite\") \\\n",
    "    .jdbc(url=clickhouse_url, table=\"products_ordered_by_rating\", properties=clickhouse_props)"
   ]
  },
  {
   "cell_type": "markdown",
   "id": "732ecb6e-97ab-418c-a409-fd82c1cefb35",
   "metadata": {},
   "source": [
    "## Корреляция между рейтингом и объемом продаж. "
   ]
  },
  {
   "cell_type": "code",
   "execution_count": 134,
   "id": "38747f8c-5761-409e-8001-c00a7eae8212",
   "metadata": {},
   "outputs": [
    {
     "name": "stdout",
     "output_type": "stream",
     "text": [
      "+----------+--------------------+--------------+\n",
      "|product_id|              rating|total_quantity|\n",
      "+----------+--------------------+--------------+\n",
      "|       148|2.300000000000000000|             5|\n",
      "|       463|2.800000000000000000|             6|\n",
      "|       471|3.600000000000000000|             8|\n",
      "|       496|2.000000000000000000|             4|\n",
      "|       833|3.300000000000000000|             2|\n",
      "+----------+--------------------+--------------+\n",
      "only showing top 5 rows\n",
      "\n"
     ]
    }
   ],
   "source": [
    "rating_sales_corr = fact_sales.join(dim_product, \"product_id\") \\\n",
    "    .groupBy(\"product_id\", \"rating\") \\\n",
    "    .agg(F.sum(fact_sales[\"quantity\"]).alias(\"total_quantity\"))\n",
    "\n",
    "rating_sales_corr.show(5)\n",
    "\n",
    "rating_sales_corr.write \\\n",
    "    .option(\"createTableOptions\", \"ENGINE = MergeTree() ORDER BY (rating)\") \\\n",
    "    .mode(\"overwrite\") \\\n",
    "    .jdbc(url=clickhouse_url, table=\"rating_sales_corr\", properties=clickhouse_props)"
   ]
  },
  {
   "cell_type": "markdown",
   "id": "3847eeeb-0569-46a3-8bcb-e4cfffe134ac",
   "metadata": {},
   "source": [
    "## Продукты с наибольшим количеством отзывов."
   ]
  },
  {
   "cell_type": "code",
   "execution_count": 135,
   "id": "88aa269e-9ba4-4b32-8f69-388c8e6d1c8b",
   "metadata": {},
   "outputs": [
    {
     "name": "stdout",
     "output_type": "stream",
     "text": [
      "+----------+---------+-------+\n",
      "|product_id|     name|reviews|\n",
      "+----------+---------+-------+\n",
      "|      1938|  Cat Toy|   1000|\n",
      "|      1073|Bird Cage|   1000|\n",
      "|      9735|Bird Cage|   1000|\n",
      "|      8992|Bird Cage|   1000|\n",
      "|      6383|  Cat Toy|   1000|\n",
      "+----------+---------+-------+\n",
      "only showing top 5 rows\n",
      "\n"
     ]
    }
   ],
   "source": [
    "top_reviewed_products = dim_product.select(\"product_id\", \"name\", \"reviews\") \\\n",
    "    .orderBy(F.desc(\"reviews\"))\n",
    "\n",
    "top_reviewed_products.show(5)\n",
    "\n",
    "top_reviewed_products.write \\\n",
    "    .option(\"createTableOptions\", \"ENGINE = MergeTree() ORDER BY (product_id)\") \\\n",
    "    .mode(\"overwrite\") \\\n",
    "    .jdbc(url=clickhouse_url, table=\"top_reviewed_products\", properties=clickhouse_props)"
   ]
  }
 ],
 "metadata": {
  "kernelspec": {
   "display_name": "Python 3 (ipykernel)",
   "language": "python",
   "name": "python3"
  },
  "language_info": {
   "codemirror_mode": {
    "name": "ipython",
    "version": 3
   },
   "file_extension": ".py",
   "mimetype": "text/x-python",
   "name": "python",
   "nbconvert_exporter": "python",
   "pygments_lexer": "ipython3",
   "version": "3.11.6"
  }
 },
 "nbformat": 4,
 "nbformat_minor": 5
}
